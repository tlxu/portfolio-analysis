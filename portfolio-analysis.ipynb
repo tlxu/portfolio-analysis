{
 "cells": [
  {
   "cell_type": "code",
   "execution_count": 18,
   "metadata": {},
   "outputs": [],
   "source": [
    "import pandas as pd\n",
    "pd.set_option(\"display.precision\", 2)"
   ]
  },
  {
   "cell_type": "code",
   "execution_count": 19,
   "metadata": {},
   "outputs": [],
   "source": [
    "file_transactions = 'transactions.csv'"
   ]
  },
  {
   "cell_type": "markdown",
   "metadata": {},
   "source": [
    "#"
   ]
  },
  {
   "cell_type": "markdown",
   "metadata": {},
   "source": [
    "# 1. Read transactions history"
   ]
  },
  {
   "cell_type": "code",
   "execution_count": 20,
   "metadata": {},
   "outputs": [
    {
     "data": {
      "text/html": [
       "<div>\n",
       "<style scoped>\n",
       "    .dataframe tbody tr th:only-of-type {\n",
       "        vertical-align: middle;\n",
       "    }\n",
       "\n",
       "    .dataframe tbody tr th {\n",
       "        vertical-align: top;\n",
       "    }\n",
       "\n",
       "    .dataframe thead th {\n",
       "        text-align: right;\n",
       "    }\n",
       "</style>\n",
       "<table border=\"1\" class=\"dataframe\">\n",
       "  <thead>\n",
       "    <tr style=\"text-align: right;\">\n",
       "      <th></th>\n",
       "      <th>Date</th>\n",
       "      <th>Ticker</th>\n",
       "      <th>Action</th>\n",
       "      <th>Quantity</th>\n",
       "      <th>Price</th>\n",
       "      <th>Account</th>\n",
       "    </tr>\n",
       "  </thead>\n",
       "  <tbody>\n",
       "    <tr>\n",
       "      <th>1</th>\n",
       "      <td>2022-01-13</td>\n",
       "      <td>ASML</td>\n",
       "      <td>Buy</td>\n",
       "      <td>20</td>\n",
       "      <td>730</td>\n",
       "      <td>XR</td>\n",
       "    </tr>\n",
       "    <tr>\n",
       "      <th>2</th>\n",
       "      <td>2022-01-13</td>\n",
       "      <td>AAL</td>\n",
       "      <td>Buy</td>\n",
       "      <td>100</td>\n",
       "      <td>19</td>\n",
       "      <td>YT</td>\n",
       "    </tr>\n",
       "    <tr>\n",
       "      <th>3</th>\n",
       "      <td>2022-01-14</td>\n",
       "      <td>ASML</td>\n",
       "      <td>Sell</td>\n",
       "      <td>5</td>\n",
       "      <td>740</td>\n",
       "      <td>YR</td>\n",
       "    </tr>\n",
       "    <tr>\n",
       "      <th>4</th>\n",
       "      <td>2022-01-15</td>\n",
       "      <td>ASML</td>\n",
       "      <td>Buy</td>\n",
       "      <td>10</td>\n",
       "      <td>745</td>\n",
       "      <td>YT</td>\n",
       "    </tr>\n",
       "    <tr>\n",
       "      <th>5</th>\n",
       "      <td>2022-01-15</td>\n",
       "      <td>ASML</td>\n",
       "      <td>Sell</td>\n",
       "      <td>10</td>\n",
       "      <td>750</td>\n",
       "      <td>YT</td>\n",
       "    </tr>\n",
       "  </tbody>\n",
       "</table>\n",
       "</div>"
      ],
      "text/plain": [
       "         Date Ticker Action  Quantity  Price Account\n",
       "1  2022-01-13   ASML    Buy        20    730      XR\n",
       "2  2022-01-13    AAL    Buy       100     19      YT\n",
       "3  2022-01-14   ASML   Sell         5    740      YR\n",
       "4  2022-01-15   ASML    Buy        10    745      YT\n",
       "5  2022-01-15   ASML   Sell        10    750      YT"
      ]
     },
     "execution_count": 20,
     "metadata": {},
     "output_type": "execute_result"
    }
   ],
   "source": [
    "df_trans = pd.read_csv(file_transactions)\n",
    "df_trans.tail()"
   ]
  },
  {
   "cell_type": "markdown",
   "metadata": {},
   "source": [
    "# Create Positions"
   ]
  },
  {
   "cell_type": "code",
   "execution_count": 21,
   "metadata": {},
   "outputs": [
    {
     "data": {
      "text/html": [
       "<div>\n",
       "<style scoped>\n",
       "    .dataframe tbody tr th:only-of-type {\n",
       "        vertical-align: middle;\n",
       "    }\n",
       "\n",
       "    .dataframe tbody tr th {\n",
       "        vertical-align: top;\n",
       "    }\n",
       "\n",
       "    .dataframe thead th {\n",
       "        text-align: right;\n",
       "    }\n",
       "</style>\n",
       "<table border=\"1\" class=\"dataframe\">\n",
       "  <thead>\n",
       "    <tr style=\"text-align: right;\">\n",
       "      <th></th>\n",
       "      <th>Date</th>\n",
       "      <th>Ticker</th>\n",
       "      <th>Action</th>\n",
       "      <th>Quantity</th>\n",
       "      <th>Price</th>\n",
       "      <th>Account</th>\n",
       "      <th>Amount</th>\n",
       "    </tr>\n",
       "  </thead>\n",
       "  <tbody>\n",
       "    <tr>\n",
       "      <th>2</th>\n",
       "      <td>2022-01-13</td>\n",
       "      <td>AAL</td>\n",
       "      <td>Buy</td>\n",
       "      <td>100</td>\n",
       "      <td>19</td>\n",
       "      <td>YT</td>\n",
       "      <td>1900</td>\n",
       "    </tr>\n",
       "    <tr>\n",
       "      <th>1</th>\n",
       "      <td>2022-01-13</td>\n",
       "      <td>ASML</td>\n",
       "      <td>Buy</td>\n",
       "      <td>20</td>\n",
       "      <td>730</td>\n",
       "      <td>XR</td>\n",
       "      <td>14600</td>\n",
       "    </tr>\n",
       "    <tr>\n",
       "      <th>3</th>\n",
       "      <td>2022-01-14</td>\n",
       "      <td>ASML</td>\n",
       "      <td>Sell</td>\n",
       "      <td>5</td>\n",
       "      <td>740</td>\n",
       "      <td>YR</td>\n",
       "      <td>3700</td>\n",
       "    </tr>\n",
       "    <tr>\n",
       "      <th>4</th>\n",
       "      <td>2022-01-15</td>\n",
       "      <td>ASML</td>\n",
       "      <td>Buy</td>\n",
       "      <td>10</td>\n",
       "      <td>745</td>\n",
       "      <td>YT</td>\n",
       "      <td>7450</td>\n",
       "    </tr>\n",
       "    <tr>\n",
       "      <th>5</th>\n",
       "      <td>2022-01-15</td>\n",
       "      <td>ASML</td>\n",
       "      <td>Sell</td>\n",
       "      <td>10</td>\n",
       "      <td>750</td>\n",
       "      <td>YT</td>\n",
       "      <td>7500</td>\n",
       "    </tr>\n",
       "    <tr>\n",
       "      <th>0</th>\n",
       "      <td>2022-01-01</td>\n",
       "      <td>CASH</td>\n",
       "      <td>Deposit</td>\n",
       "      <td>1</td>\n",
       "      <td>10000</td>\n",
       "      <td>XT</td>\n",
       "      <td>10000</td>\n",
       "    </tr>\n",
       "  </tbody>\n",
       "</table>\n",
       "</div>"
      ],
      "text/plain": [
       "         Date Ticker   Action  Quantity  Price Account  Amount\n",
       "2  2022-01-13    AAL      Buy       100     19      YT    1900\n",
       "1  2022-01-13   ASML      Buy        20    730      XR   14600\n",
       "3  2022-01-14   ASML     Sell         5    740      YR    3700\n",
       "4  2022-01-15   ASML      Buy        10    745      YT    7450\n",
       "5  2022-01-15   ASML     Sell        10    750      YT    7500\n",
       "0  2022-01-01   CASH  Deposit         1  10000      XT   10000"
      ]
     },
     "execution_count": 21,
     "metadata": {},
     "output_type": "execute_result"
    }
   ],
   "source": [
    "# Add Amount column for each transaxtion\n",
    "df_trans.sort_values(['Ticker','Date','Action'], ascending=[True, True, True], inplace=True)\n",
    "df_trans['Amount'] = df_trans['Quantity'] * df_trans['Price']\n",
    "df_trans"
   ]
  },
  {
   "cell_type": "code",
   "execution_count": 22,
   "metadata": {},
   "outputs": [
    {
     "data": {
      "text/html": [
       "<div>\n",
       "<style scoped>\n",
       "    .dataframe tbody tr th:only-of-type {\n",
       "        vertical-align: middle;\n",
       "    }\n",
       "\n",
       "    .dataframe tbody tr th {\n",
       "        vertical-align: top;\n",
       "    }\n",
       "\n",
       "    .dataframe thead th {\n",
       "        text-align: right;\n",
       "    }\n",
       "</style>\n",
       "<table border=\"1\" class=\"dataframe\">\n",
       "  <thead>\n",
       "    <tr style=\"text-align: right;\">\n",
       "      <th></th>\n",
       "      <th>Date</th>\n",
       "      <th>Ticker</th>\n",
       "      <th>Action</th>\n",
       "      <th>Quantity</th>\n",
       "      <th>Price</th>\n",
       "      <th>Account</th>\n",
       "      <th>Amount</th>\n",
       "      <th>Signed Quantity</th>\n",
       "      <th>Signed Amount</th>\n",
       "    </tr>\n",
       "  </thead>\n",
       "  <tbody>\n",
       "    <tr>\n",
       "      <th>2</th>\n",
       "      <td>2022-01-13</td>\n",
       "      <td>AAL</td>\n",
       "      <td>Buy</td>\n",
       "      <td>100</td>\n",
       "      <td>19</td>\n",
       "      <td>YT</td>\n",
       "      <td>1900</td>\n",
       "      <td>100</td>\n",
       "      <td>1900</td>\n",
       "    </tr>\n",
       "    <tr>\n",
       "      <th>1</th>\n",
       "      <td>2022-01-13</td>\n",
       "      <td>ASML</td>\n",
       "      <td>Buy</td>\n",
       "      <td>20</td>\n",
       "      <td>730</td>\n",
       "      <td>XR</td>\n",
       "      <td>14600</td>\n",
       "      <td>20</td>\n",
       "      <td>14600</td>\n",
       "    </tr>\n",
       "    <tr>\n",
       "      <th>3</th>\n",
       "      <td>2022-01-14</td>\n",
       "      <td>ASML</td>\n",
       "      <td>Sell</td>\n",
       "      <td>5</td>\n",
       "      <td>740</td>\n",
       "      <td>YR</td>\n",
       "      <td>3700</td>\n",
       "      <td>-5</td>\n",
       "      <td>-3700</td>\n",
       "    </tr>\n",
       "    <tr>\n",
       "      <th>4</th>\n",
       "      <td>2022-01-15</td>\n",
       "      <td>ASML</td>\n",
       "      <td>Buy</td>\n",
       "      <td>10</td>\n",
       "      <td>745</td>\n",
       "      <td>YT</td>\n",
       "      <td>7450</td>\n",
       "      <td>10</td>\n",
       "      <td>7450</td>\n",
       "    </tr>\n",
       "    <tr>\n",
       "      <th>5</th>\n",
       "      <td>2022-01-15</td>\n",
       "      <td>ASML</td>\n",
       "      <td>Sell</td>\n",
       "      <td>10</td>\n",
       "      <td>750</td>\n",
       "      <td>YT</td>\n",
       "      <td>7500</td>\n",
       "      <td>-10</td>\n",
       "      <td>-7500</td>\n",
       "    </tr>\n",
       "  </tbody>\n",
       "</table>\n",
       "</div>"
      ],
      "text/plain": [
       "         Date Ticker Action  Quantity  Price Account  Amount  Signed Quantity  \\\n",
       "2  2022-01-13    AAL    Buy       100     19      YT    1900              100   \n",
       "1  2022-01-13   ASML    Buy        20    730      XR   14600               20   \n",
       "3  2022-01-14   ASML   Sell         5    740      YR    3700               -5   \n",
       "4  2022-01-15   ASML    Buy        10    745      YT    7450               10   \n",
       "5  2022-01-15   ASML   Sell        10    750      YT    7500              -10   \n",
       "\n",
       "   Signed Amount  \n",
       "2           1900  \n",
       "1          14600  \n",
       "3          -3700  \n",
       "4           7450  \n",
       "5          -7500  "
      ]
     },
     "execution_count": 22,
     "metadata": {},
     "output_type": "execute_result"
    }
   ],
   "source": [
    "# Buy a stock, then we have more Quantity(+) and Amount(+), otherwise we have less (-)\n",
    "df = df_trans[df_trans['Ticker'] != 'CASH'].copy(deep=True)\n",
    "df['Signed Quantity'] = df.apply(lambda x: (1 if (x.Action == 'Buy' or x.Action == 'Deposit') else -1) * x.Quantity, axis=1)\n",
    "df['Signed Amount'] = df.apply(lambda x: (1 if (x.Action == 'Buy' or x.Action == 'Deposit') else -1) * x.Amount, axis=1)\n",
    "df"
   ]
  },
  {
   "cell_type": "code",
   "execution_count": 23,
   "metadata": {},
   "outputs": [
    {
     "data": {
      "text/html": [
       "<div>\n",
       "<style scoped>\n",
       "    .dataframe tbody tr th:only-of-type {\n",
       "        vertical-align: middle;\n",
       "    }\n",
       "\n",
       "    .dataframe tbody tr th {\n",
       "        vertical-align: top;\n",
       "    }\n",
       "\n",
       "    .dataframe thead th {\n",
       "        text-align: right;\n",
       "    }\n",
       "</style>\n",
       "<table border=\"1\" class=\"dataframe\">\n",
       "  <thead>\n",
       "    <tr style=\"text-align: right;\">\n",
       "      <th></th>\n",
       "      <th>Ticker</th>\n",
       "      <th>Signed Quantity</th>\n",
       "      <th>Signed Amount</th>\n",
       "    </tr>\n",
       "  </thead>\n",
       "  <tbody>\n",
       "    <tr>\n",
       "      <th>0</th>\n",
       "      <td>AAL</td>\n",
       "      <td>100</td>\n",
       "      <td>1900</td>\n",
       "    </tr>\n",
       "    <tr>\n",
       "      <th>1</th>\n",
       "      <td>ASML</td>\n",
       "      <td>15</td>\n",
       "      <td>10850</td>\n",
       "    </tr>\n",
       "  </tbody>\n",
       "</table>\n",
       "</div>"
      ],
      "text/plain": [
       "  Ticker  Signed Quantity  Signed Amount\n",
       "0    AAL              100           1900\n",
       "1   ASML               15          10850"
      ]
     },
     "execution_count": 23,
     "metadata": {},
     "output_type": "execute_result"
    }
   ],
   "source": [
    "# Sum signed quantity and signed amount\n",
    "df_ahp = df.groupby(['Ticker'])[['Signed Quantity', 'Signed Amount']].sum().reset_index()\n",
    "df_ahp"
   ]
  },
  {
   "cell_type": "code",
   "execution_count": 24,
   "metadata": {},
   "outputs": [
    {
     "data": {
      "text/html": [
       "<div>\n",
       "<style scoped>\n",
       "    .dataframe tbody tr th:only-of-type {\n",
       "        vertical-align: middle;\n",
       "    }\n",
       "\n",
       "    .dataframe tbody tr th {\n",
       "        vertical-align: top;\n",
       "    }\n",
       "\n",
       "    .dataframe thead th {\n",
       "        text-align: right;\n",
       "    }\n",
       "</style>\n",
       "<table border=\"1\" class=\"dataframe\">\n",
       "  <thead>\n",
       "    <tr style=\"text-align: right;\">\n",
       "      <th></th>\n",
       "      <th>Ticker</th>\n",
       "      <th>Signed Quantity</th>\n",
       "      <th>Signed Amount</th>\n",
       "      <th>Average Holding Price</th>\n",
       "    </tr>\n",
       "  </thead>\n",
       "  <tbody>\n",
       "    <tr>\n",
       "      <th>0</th>\n",
       "      <td>AAL</td>\n",
       "      <td>100</td>\n",
       "      <td>1900</td>\n",
       "      <td>19.00</td>\n",
       "    </tr>\n",
       "    <tr>\n",
       "      <th>1</th>\n",
       "      <td>ASML</td>\n",
       "      <td>15</td>\n",
       "      <td>10850</td>\n",
       "      <td>723.33</td>\n",
       "    </tr>\n",
       "  </tbody>\n",
       "</table>\n",
       "</div>"
      ],
      "text/plain": [
       "  Ticker  Signed Quantity  Signed Amount  Average Holding Price\n",
       "0    AAL              100           1900                  19.00\n",
       "1   ASML               15          10850                 723.33"
      ]
     },
     "execution_count": 24,
     "metadata": {},
     "output_type": "execute_result"
    }
   ],
   "source": [
    "# Average Holding Price = Signed Amount / Signed Quantity\n",
    "df_ahp['Average Holding Price'] = df_ahp['Signed Amount'] / df_ahp['Signed Quantity']\n",
    "df_ahp"
   ]
  },
  {
   "cell_type": "code",
   "execution_count": 28,
   "metadata": {},
   "outputs": [
    {
     "data": {
      "text/plain": [
       "Date\n",
       "2022-01-21    694.73\n",
       "Name: Close, dtype: float64"
      ]
     },
     "execution_count": 28,
     "metadata": {},
     "output_type": "execute_result"
    }
   ],
   "source": [
    "import pandas_datareader as pdr\n",
    "import datetime as dt\n",
    "\n",
    "end = dt.date.today()\n",
    "start = end - dt.timedelta(days=1)\n",
    "\n",
    "ticker = 'ASML'\n",
    "df = pdr.get_data_yahoo(ticker, start, end)\n",
    "df['Close']"
   ]
  }
 ],
 "metadata": {
  "interpreter": {
   "hash": "aee8b7b246df8f9039afb4144a1f6fd8d2ca17a180786b69acc140d282b71a49"
  },
  "kernelspec": {
   "display_name": "Python 3.9.6 64-bit",
   "language": "python",
   "name": "python3"
  },
  "language_info": {
   "codemirror_mode": {
    "name": "ipython",
    "version": 3
   },
   "file_extension": ".py",
   "mimetype": "text/x-python",
   "name": "python",
   "nbconvert_exporter": "python",
   "pygments_lexer": "ipython3",
   "version": "3.9.6"
  },
  "orig_nbformat": 4
 },
 "nbformat": 4,
 "nbformat_minor": 2
}
